{
 "cells": [
  {
   "cell_type": "code",
   "execution_count": 7,
   "id": "e21a8d09-ae79-4b41-a054-e870074a95b9",
   "metadata": {},
   "outputs": [],
   "source": [
    "import torch.nn as nn\n",
    "import torch\n",
    "import torch.nn.functional as F\n",
    "import torchvision.transforms as transforms\n",
    "from PIL import Image\n",
    "import numpy as np"
   ]
  },
  {
   "cell_type": "code",
   "execution_count": 9,
   "id": "fd352e1c-e536-46d3-90e8-a8641bdb5f0d",
   "metadata": {},
   "outputs": [
    {
     "name": "stdout",
     "output_type": "stream",
     "text": [
      "cuda\n"
     ]
    }
   ],
   "source": [
    "#change device to cuda if available\n",
    "device = torch.device(\"cuda\" if torch.cuda.is_available() else \"cpu\")"
   ]
  },
  {
   "cell_type": "code",
   "execution_count": 11,
   "id": "fa908b3d-ad8d-4ee4-844f-715ad7a81de1",
   "metadata": {},
   "outputs": [],
   "source": [
    "#class same as that of trained model\n",
    "class SimpleCNN(nn.Module):\n",
    "    def __init__(self):\n",
    "        super(SimpleCNN, self).__init__()\n",
    "        self.conv1 = nn.Conv2d(3, 32, kernel_size=3, stride=1, padding=1)\n",
    "        self.conv2 = nn.Conv2d(32, 64, kernel_size=3, stride=1, padding=1)\n",
    "        self.conv3 = nn.Conv2d(64, 128, kernel_size=3, stride=1, padding=1)\n",
    "        self.conv4 = nn.Conv2d(128, 256, kernel_size=3, stride=1, padding=1)\n",
    "        self.pool = nn.MaxPool2d(2,2)\n",
    "        self.fc1 = nn.Linear(256 * 16 * 16, 512)\n",
    "        self.fc2 = nn.Linear(512, 5)\n",
    "        self.dropout = nn.Dropout(0.25)\n",
    "\n",
    "    def forward(self, x):\n",
    "        # x = self.pool(F.relu(self.conv1(x)))\n",
    "        # x = self.pool(F.relu(self.conv2(x)))\n",
    "        # x = self.pool(F.relu(self.conv3(x)))\n",
    "        x = self.pool(F.leaky_relu(self.conv1(x), negative_slope=0.01))\n",
    "        x = self.pool(F.leaky_relu(self.conv2(x), negative_slope=0.01))\n",
    "        x = self.pool(F.leaky_relu(self.conv3(x), negative_slope=0.01))\n",
    "        x = self.pool(F.leaky_relu(self.conv4(x), negative_slope=0.01))\n",
    "        x = x.view(-1, 256 * 16 * 16)\n",
    "        x = self.dropout(F.leaky_relu(self.fc1(x), negative_slope=0.01))\n",
    "        x = self.fc2(x)\n",
    "        return x"
   ]
  },
  {
   "cell_type": "code",
   "execution_count": 13,
   "id": "05d82e70-e908-4ffa-beef-f9b56ef5068d",
   "metadata": {},
   "outputs": [],
   "source": [
    "model = SimpleCNN().to(device)"
   ]
  },
  {
   "cell_type": "code",
   "execution_count": 15,
   "id": "119a0980-3dcd-4516-a7ae-61ecb0494e0f",
   "metadata": {},
   "outputs": [
    {
     "data": {
      "text/plain": [
       "SimpleCNN(\n",
       "  (conv1): Conv2d(3, 32, kernel_size=(3, 3), stride=(1, 1), padding=(1, 1))\n",
       "  (conv2): Conv2d(32, 64, kernel_size=(3, 3), stride=(1, 1), padding=(1, 1))\n",
       "  (conv3): Conv2d(64, 128, kernel_size=(3, 3), stride=(1, 1), padding=(1, 1))\n",
       "  (conv4): Conv2d(128, 256, kernel_size=(3, 3), stride=(1, 1), padding=(1, 1))\n",
       "  (pool): MaxPool2d(kernel_size=2, stride=2, padding=0, dilation=1, ceil_mode=False)\n",
       "  (fc1): Linear(in_features=65536, out_features=512, bias=True)\n",
       "  (fc2): Linear(in_features=512, out_features=5, bias=True)\n",
       "  (dropout): Dropout(p=0.25, inplace=False)\n",
       ")"
      ]
     },
     "execution_count": 15,
     "metadata": {},
     "output_type": "execute_result"
    }
   ],
   "source": [
    "# Instantiate the model and load the state dictionary\n",
    "model = SimpleCNN()\n",
    "model.load_state_dict(torch.load('simple_cnn_model.pth'))\n",
    "model.eval()"
   ]
  },
  {
   "cell_type": "code",
   "execution_count": 36,
   "id": "e6bbe696-76f6-4f2c-b889-62e5cb0b9ce3",
   "metadata": {},
   "outputs": [],
   "source": [
    "#transform function for model\n",
    "def transform_image():\n",
    "    return transforms.Compose([\n",
    "        transforms.Resize((256, 256)),\n",
    "        transforms.ToTensor(),\n",
    "        transforms.Normalize((0.485, 0.456, 0.406), (0.229, 0.224, 0.225))\n",
    "    ])"
   ]
  },
  {
   "cell_type": "code",
   "execution_count": 38,
   "id": "0b045bec-de09-489c-aeab-b9d8e3ada3b5",
   "metadata": {},
   "outputs": [],
   "source": [
    "# Load and preprocess the image\n",
    "def preprocess_image(image_path):\n",
    "    transform = transform_image()\n",
    "    image = Image.open(image_path)\n",
    "    image = transform(image).unsqueeze(0)\n",
    "    return image"
   ]
  },
  {
   "cell_type": "code",
   "execution_count": 40,
   "id": "b84e7983-a207-4f44-af92-eeb0b7b23200",
   "metadata": {},
   "outputs": [],
   "source": [
    "#function to predict image class\n",
    "def predict_image_class(model, image, classes):\n",
    "    \n",
    "    #shift image and model to cuda if available\n",
    "    device = torch.device(\"cuda\" if torch.cuda.is_available() else \"cpu\")\n",
    "    image = image.to(device)\n",
    "    model = model.to(device)\n",
    "    \n",
    "    # Predict the class\n",
    "    with torch.no_grad():\n",
    "        output = model(image)\n",
    "        _, predicted_class = torch.max(output, 1)\n",
    "    \n",
    "    return classes[predicted_class.item()]\n"
   ]
  },
  {
   "cell_type": "code",
   "execution_count": 46,
   "id": "8e69169b-0272-434e-8bc5-0ab2d77f4e73",
   "metadata": {},
   "outputs": [
    {
     "name": "stdout",
     "output_type": "stream",
     "text": [
      "Predicted Class: Bar\n"
     ]
    }
   ],
   "source": [
    "if __name__ == \"__main__\":\n",
    "    # Define the classes of the model\n",
    "    classes = ['Bar', 'Casino', 'Hospital', 'Library', 'Restaurant']\n",
    "    \n",
    "    # Path to the image\n",
    "    image_path = \"W:/Concordia/Summer2024/AI/test/images/random/download1.jpeg\"\n",
    "    \n",
    "    #preprocess image\n",
    "    image = preprocess_image(image_path)\n",
    "    \n",
    "    # Predict the image class\n",
    "    predicted_class = predict_image_class(model, image, classes)\n",
    "    print(f'Predicted Class: {predicted_class}')"
   ]
  },
  {
   "cell_type": "code",
   "execution_count": null,
   "id": "e435ca66-0a9a-4d35-b66d-36cb2fd8c46f",
   "metadata": {},
   "outputs": [],
   "source": []
  }
 ],
 "metadata": {
  "kernelspec": {
   "display_name": "Python 3 (ipykernel)",
   "language": "python",
   "name": "python3"
  },
  "language_info": {
   "codemirror_mode": {
    "name": "ipython",
    "version": 3
   },
   "file_extension": ".py",
   "mimetype": "text/x-python",
   "name": "python",
   "nbconvert_exporter": "python",
   "pygments_lexer": "ipython3",
   "version": "3.11.7"
  }
 },
 "nbformat": 4,
 "nbformat_minor": 5
}
