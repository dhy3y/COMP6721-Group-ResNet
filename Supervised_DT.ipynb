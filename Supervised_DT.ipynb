{
 "cells": [
  {
   "cell_type": "code",
   "execution_count": null,
   "metadata": {
    "id": "8zkPTgNdoX6Q"
   },
   "outputs": [],
   "source": [
    "# from google.colab import drive\n",
    "# drive.mount('/content/drive/')"
   ]
  },
  {
   "cell_type": "code",
   "execution_count": 1,
   "metadata": {
    "id": "aL3CEDPJ_vCZ"
   },
   "outputs": [],
   "source": [
    "import matplotlib.pyplot as plt\n",
    "from skimage import color\n",
    "from skimage.transform import resize\n",
    "from sklearn.model_selection import train_test_split\n",
    "import os\n",
    "import numpy as np\n",
    "from PIL import Image\n",
    "\n",
    "from sklearn.tree import DecisionTreeClassifier\n",
    "from sklearn.metrics import accuracy_score, classification_report, precision_score, recall_score, f1_score, confusion_matrix, ConfusionMatrixDisplay\n",
    "\n",
    "#PCA for feature reduction - Note: I tried it because it made the model fit faster\n",
    "from sklearn.preprocessing import StandardScaler\n",
    "from sklearn.decomposition import PCA"
   ]
  },
  {
   "cell_type": "code",
   "execution_count": 2,
   "metadata": {
    "id": "B7pKbpUa_x5J"
   },
   "outputs": [],
   "source": [
    "path = 'C:/dataset2/'"
   ]
  },
  {
   "cell_type": "code",
   "execution_count": 8,
   "metadata": {
    "id": "XbPR9Lyx6kBy"
   },
   "outputs": [
    {
     "name": "stdout",
     "output_type": "stream",
     "text": [
      "C:/dataset2/Bar\\bar_0527.jpg\n",
      "NOT RGB\n",
      "C:/dataset2/Restaurant\\213596.jpg\n",
      "NOT RGB\n",
      "C:/dataset2/Restaurant\\interieur_014_png.jpg\n",
      "NOT RGB\n"
     ]
    }
   ],
   "source": [
    "classes = [\"Bar\", \"Casino\", \"Restaurant\", \"Library\", \"Hospital\"]\n",
    "\n",
    "def load_images(data_path, classes):\n",
    "    data = []\n",
    "    labels = []\n",
    "    for class_n in classes:\n",
    "        path = os.path.join(data_path, class_n)\n",
    "        l = classes.index(class_n)\n",
    "        for img in os.listdir(path):\n",
    "            try:\n",
    "                img_path = os.path.join(path, img)\n",
    "#                 img = plt.imread(img_path)  #This is for using skimage\n",
    "                img = Image.open(img_path)\n",
    "                if img.mode != 'RGB':\n",
    "                    print(img_path)\n",
    "                    print(\"NOT RGB\")\n",
    "                    continue\n",
    "                img = img.resize((256,256))\n",
    "                img = np.array(img)\n",
    "                data.append(img)\n",
    "                labels.append(l)\n",
    "            except Exception as e:\n",
    "                print(f\"Error : {e}\")\n",
    "    X = np.array(data) / 255.0\n",
    "    y = np.array(labels)\n",
    "    return X, y\n",
    "\n",
    "X, y = load_images(path, classes)"
   ]
  },
  {
   "cell_type": "code",
   "execution_count": 9,
   "metadata": {
    "id": "Z-YC5ymdAKXO"
   },
   "outputs": [],
   "source": [
    "X_train, X_test, y_train, y_test = train_test_split(X, y, test_size=0.17, random_state=42)"
   ]
  },
  {
   "cell_type": "code",
   "execution_count": 10,
   "metadata": {
    "id": "XvNn188wB5un"
   },
   "outputs": [],
   "source": [
    "# Flattening\n",
    "X_train_flat = X_train.reshape(X_train.shape[0], -1)\n",
    "X_test_flat = X_test.reshape(X_test.shape[0], -1)\n",
    "\n",
    "\n",
    "PCA\n",
    "scaler = StandardScaler()\n",
    "pca = PCA(n_components=100)\n",
    "X_train_pca = pca.fit_transform(scaler.fit_transform(X_train_flat))\n",
    "X_test_pca = pca.transform(scaler.transform(X_test_flat))"
   ]
  },
  {
   "cell_type": "code",
   "execution_count": 11,
   "metadata": {
    "id": "M_lJ7jEw6kB2",
    "outputId": "fe16565a-e549-4910-cc45-8d07eb45a811"
   },
   "outputs": [
    {
     "name": "stdout",
     "output_type": "stream",
     "text": [
      "{'max_depth': 7, 'min_samples_split': 20, 'ccp_alpha': 0.0}\n"
     ]
    }
   ],
   "source": [
    "#parameter tuning - Pruning\n",
    "best_accuracy = 0\n",
    "best_params = {}\n",
    "for max_depth in [3, 5, 7, 10, None]:\n",
    "    for min_samples_split in [2, 5, 10, 20]:\n",
    "        for ccp_alpha in [0.0, 0.01, 0.1, 1.0]: # Added ccp_alpha for pruning\n",
    "            dt = DecisionTreeClassifier(max_depth=max_depth, min_samples_split=min_samples_split, ccp_alpha=ccp_alpha, random_state=42)\n",
    "            dt.fit(X_train_pca, y_train)\n",
    "            y_pred = dt.predict(X_test_pca)\n",
    "            accuracy = accuracy_score(y_test, y_pred)\n",
    "            if accuracy > best_accuracy:\n",
    "                best_accuracy = accuracy\n",
    "                best_params = {'max_depth': max_depth, 'min_samples_split': min_samples_split, 'ccp_alpha': ccp_alpha}\n",
    "\n",
    "print(best_params)\n",
    "\n",
    "dt = DecisionTreeClassifier(**best_params)\n",
    "dt.fit(X_train_pca, y_train)\n",
    "y_pred = dt.predict(X_test_pca)"
   ]
  },
  {
   "cell_type": "code",
   "execution_count": 14,
   "metadata": {
    "id": "oPXtu1XN6kB3",
    "outputId": "7a44c293-b982-4529-a5e0-6a3f7779ae89"
   },
   "outputs": [
    {
     "name": "stdout",
     "output_type": "stream",
     "text": [
      "Accuracy: 0.39226519337016574\n",
      "Classification Report:\n",
      "              precision    recall  f1-score   support\n",
      "\n",
      "         Bar       0.41      0.23      0.30       126\n",
      "      Casino       0.42      0.60      0.49       100\n",
      "  Restaurant       0.35      0.27      0.30       104\n",
      "     Library       0.31      0.37      0.33        90\n",
      "    Hospital       0.44      0.51      0.48       123\n",
      "\n",
      "    accuracy                           0.39       543\n",
      "   macro avg       0.39      0.40      0.38       543\n",
      "weighted avg       0.39      0.39      0.38       543\n",
      "\n"
     ]
    }
   ],
   "source": [
    "# Evaluation Metrics\n",
    "accuracy = accuracy_score(y_test, y_pred)\n",
    "report = classification_report(y_test, y_pred, target_names=classes)\n",
    "conf_matrix = confusion_matrix(y_test, y_pred)\n",
    "\n",
    "print(f\"Accuracy: {accuracy}\")\n",
    "print(\"Classification Report:\")\n",
    "print(report)"
   ]
  },
  {
   "cell_type": "code",
   "execution_count": 15,
   "metadata": {
    "id": "tpEbVMG_Czzd",
    "outputId": "55a6d1d2-904e-4e00-ec35-bbe6dcd5f376"
   },
   "outputs": [
    {
     "data": {
      "image/png": "[encoded data removed]",
      "text/plain": [
       "<Figure size 640x480 with 2 Axes>"
      ]
     },
     "metadata": {},
     "output_type": "display_data"
    }
   ],
   "source": [
    "ConfusionMatrixDisplay(confusion_matrix=conf_matrix, display_labels=classes).plot(cmap=plt.cm.Blues)\n",
    "plt.show()"
   ]
  },
  {
   "cell_type": "code",
   "execution_count": null,
   "metadata": {
    "id": "ypS50oRo6kB5"
   },
   "outputs": [],
   "source": []
  }
 ],
 "metadata": {
  "colab": {
   "provenance": []
  },
  "kernelspec": {
   "display_name": "Python 3 (ipykernel)",
   "language": "python",
   "name": "python3"
  },
  "language_info": {
   "codemirror_mode": {
    "name": "ipython",
    "version": 3
   },
   "file_extension": ".py",
   "mimetype": "text/x-python",
   "name": "python",
   "nbconvert_exporter": "python",
   "pygments_lexer": "ipython3",
   "version": "3.11.5"
  }
 },
 "nbformat": 4,
 "nbformat_minor": 1
}
