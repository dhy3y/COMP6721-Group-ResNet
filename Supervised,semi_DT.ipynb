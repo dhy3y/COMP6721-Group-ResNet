{
 "cells": [
  {
   "cell_type": "code",
   "execution_count": 2,
   "metadata": {
    "id": "8zkPTgNdoX6Q"
   },
   "outputs": [],
   "source": [
    "# from google.colab import drive\n",
    "# drive.mount('/content/drive/')"
   ]
  },
  {
   "cell_type": "code",
   "execution_count": 58,
   "metadata": {
    "id": "aL3CEDPJ_vCZ"
   },
   "outputs": [],
   "source": [
    "import matplotlib.pyplot as plt\n",
    "from skimage import color\n",
    "from skimage.transform import resize\n",
    "from sklearn.model_selection import train_test_split\n",
    "import os\n",
    "import numpy as np\n",
    "from PIL import Image\n",
    "\n",
    "from sklearn.tree import DecisionTreeClassifier\n",
    "from sklearn.metrics import accuracy_score, classification_report, precision_score, recall_score, f1_score, confusion_matrix, ConfusionMatrixDisplay\n",
    "\n",
    "#PCA for feature reduction - Note: I tried it because it made the model fit faster\n",
    "from sklearn.preprocessing import StandardScaler\n",
    "from sklearn.decomposition import PCA"
   ]
  },
  {
   "cell_type": "code",
   "execution_count": 60,
   "metadata": {
    "id": "B7pKbpUa_x5J"
   },
   "outputs": [],
   "source": [
    "#path = 'C:/dataset/'\n",
    "path = 'W:/Concordia/Summer2024/AI/test/images/training'"
   ]
  },
  {
   "cell_type": "code",
   "execution_count": 62,
   "metadata": {
    "id": "XbPR9Lyx6kBy"
   },
   "outputs": [],
   "source": [
    "classes = [\"Bar\", \"Casino\", \"Restaurant\", \"Library\", \"Hospital\"]\n",
    "\n",
    "def load_images(data_path, classes):\n",
    "    data = []\n",
    "    labels = []\n",
    "    for class_n in classes:\n",
    "        path = os.path.join(data_path, class_n)\n",
    "        l = classes.index(class_n)\n",
    "        for img in os.listdir(path):\n",
    "            try:\n",
    "                img_path = os.path.join(path, img)\n",
    "#                 img = plt.imread(img_path)  #This is for using skimage\n",
    "                img = Image.open(img_path)\n",
    "                if img.mode != 'RGB':\n",
    "                    print(\"Not rgb\")\n",
    "                    continue\n",
    "                img = img.resize((256,256))\n",
    "                img = np.array(img)\n",
    "                data.append(img)\n",
    "                labels.append(l)\n",
    "            except Exception as e:\n",
    "                print(f\"Error : {e}\")\n",
    "    return np.array(data), np.array(labels)\n",
    "\n",
    "X, y = load_images(path, classes)"
   ]
  },
  {
   "cell_type": "code",
   "execution_count": 64,
   "metadata": {
    "id": "Z-YC5ymdAKXO"
   },
   "outputs": [],
   "source": [
    "X_train, X_test, y_train, y_test = train_test_split(X, y, test_size=0.18, stratify=y, random_state=42)"
   ]
  },
  {
   "cell_type": "code",
   "execution_count": 66,
   "metadata": {
    "id": "XvNn188wB5un"
   },
   "outputs": [],
   "source": [
    "# Flattening\n",
    "X_train_flat = X_train.reshape(X_train.shape[0], -1)\n",
    "X_test_flat = X_test.reshape(X_test.shape[0], -1)\n",
    "\n",
    "PCA\n",
    "scaler = StandardScaler()\n",
    "pca = PCA(n_components=100)\n",
    "X_train_pca = pca.fit_transform(scaler.fit_transform(X_train_flat))\n",
    "X_test_pca = pca.transform(scaler.transform(X_test_flat))\n",
    "\n",
    "# X_train_pca = X_train_flat\n",
    "# X_test_pca = X_test_flat"
   ]
  },
  {
   "cell_type": "code",
   "execution_count": 68,
   "metadata": {
    "id": "L1iVNqH56kB0",
    "outputId": "da70611e-31c6-4491-8c25-54c26eb4ac30"
   },
   "outputs": [],
   "source": [
    "# #parameter tuning\n",
    "# best_accuracy = 0\n",
    "# best_params = {}\n",
    "# for max_depth in [10, 20, 30, None]:\n",
    "#     for min_samples_split in [2, 10, 20]:\n",
    "#         for min_samples_leaf in [1, 5, 10]:\n",
    "#             dt = DecisionTreeClassifier(max_depth=max_depth, min_samples_split=min_samples_split, min_samples_leaf=min_samples_leaf, random_state=42)\n",
    "#             dt.fit(X_train_pca, y_train)\n",
    "#             y_pred = dt.predict(X_test_pca)\n",
    "#             accuracy = accuracy_score(y_test, y_pred)\n",
    "#             if accuracy > best_accuracy:\n",
    "#                 best_accuracy = accuracy\n",
    "#                 best_params = {'max_depth': max_depth, 'min_samples_split': min_samples_split, 'min_samples_leaf': min_samples_leaf}\n",
    "\n",
    "# print(best_params)\n",
    "\n",
    "# dt = DecisionTreeClassifier(**best_params,random_state=42)\n",
    "# dt.fit(X_train_pca, y_train)\n",
    "# y_pred = dt.predict(X_test_pca)"
   ]
  },
  {
   "cell_type": "code",
   "execution_count": 70,
   "metadata": {
    "id": "M_lJ7jEw6kB2",
    "outputId": "fe16565a-e549-4910-cc45-8d07eb45a811"
   },
   "outputs": [
    {
     "name": "stdout",
     "output_type": "stream",
     "text": [
      "{'max_depth': 15, 'min_samples_split': 2, 'min_samples_leaf': 1, 'ccp_alpha': 0.0}\n"
     ]
    }
   ],
   "source": [
    "#parameter tuning - Pruning\n",
    "best_accuracy = 0\n",
    "best_params = {}\n",
    "for max_depth in [10, 15, 20, 30]:\n",
    "    for min_samples_split in [2, 10, 20]:\n",
    "        for min_samples_leaf in [1, 5, 10]:\n",
    "            for ccp_alpha in [0.0, 0.01, 0.05, 0.1]: # Added ccp_alpha for pruning\n",
    "                dt = DecisionTreeClassifier(max_depth=max_depth, min_samples_split=min_samples_split, min_samples_leaf=min_samples_leaf, ccp_alpha=ccp_alpha, random_state=42)\n",
    "                dt.fit(X_train_pca, y_train)\n",
    "                y_pred = dt.predict(X_test_pca)\n",
    "                accuracy = accuracy_score(y_test, y_pred)\n",
    "                if accuracy > best_accuracy:\n",
    "                    best_accuracy = accuracy\n",
    "                    best_params = {'max_depth': max_depth, 'min_samples_split': min_samples_split, 'min_samples_leaf': min_samples_leaf, 'ccp_alpha': ccp_alpha}\n",
    "\n",
    "print(best_params)\n",
    "\n"
   ]
  },
  {
   "cell_type": "code",
   "execution_count": 71,
   "metadata": {},
   "outputs": [],
   "source": [
    "dt = DecisionTreeClassifier(**best_params,random_state=42)\n",
    "dt.fit(X_train_pca, y_train)\n",
    "y_pred = dt.predict(X_test_pca)"
   ]
  },
  {
   "cell_type": "code",
   "execution_count": 72,
   "metadata": {
    "id": "oPXtu1XN6kB3",
    "outputId": "7a44c293-b982-4529-a5e0-6a3f7779ae89"
   },
   "outputs": [
    {
     "name": "stdout",
     "output_type": "stream",
     "text": [
      "Accuracy: 0.3791304347826087\n",
      "Classification Report:\n",
      "              precision    recall  f1-score   support\n",
      "\n",
      "         Bar       0.25      0.29      0.27       109\n",
      "      Casino       0.56      0.64      0.60       117\n",
      "  Restaurant       0.32      0.29      0.30       115\n",
      "     Library       0.27      0.20      0.23       108\n",
      "    Hospital       0.44      0.44      0.44       126\n",
      "\n",
      "    accuracy                           0.38       575\n",
      "   macro avg       0.37      0.37      0.37       575\n",
      "weighted avg       0.37      0.38      0.37       575\n",
      "\n"
     ]
    }
   ],
   "source": [
    "# Evaluation Metrics\n",
    "accuracy = accuracy_score(y_test, y_pred)\n",
    "report = classification_report(y_test, y_pred, target_names=classes)\n",
    "conf_matrix = confusion_matrix(y_test, y_pred)\n",
    "\n",
    "print(f\"Accuracy: {accuracy}\")\n",
    "print(\"Classification Report:\")\n",
    "print(report)"
   ]
  },
  {
   "cell_type": "code",
   "execution_count": 73,
   "metadata": {
    "id": "tpEbVMG_Czzd",
    "outputId": "55a6d1d2-904e-4e00-ec35-bbe6dcd5f376"
   },
   "outputs": [
    {
     "data": {
      "image/png": "[encoded data removed]",
      "text/plain": [
       "<Figure size 640x480 with 2 Axes>"
      ]
     },
     "metadata": {},
     "output_type": "display_data"
    }
   ],
   "source": [
    "ConfusionMatrixDisplay(confusion_matrix=conf_matrix, display_labels=classes).plot(cmap=plt.cm.Blues)\n",
    "plt.show()"
   ]
  },
  {
   "cell_type": "code",
   "execution_count": 78,
   "metadata": {},
   "outputs": [
    {
     "name": "stdout",
     "output_type": "stream",
     "text": [
      "Supervised done.\n"
     ]
    }
   ],
   "source": [
    "print(\"Supervised done.\")"
   ]
  },
  {
   "cell_type": "code",
   "execution_count": 236,
   "metadata": {},
   "outputs": [],
   "source": [
    "#split the labelled data for semi-supervised learning in 20:80 ratio\n",
    "#prev : X_train, X_test, y_train, y_test = train_test_split(X, y, test_size=0.18, stratify=y, random_state=42)\n",
    "X_train_labeled, X_train_unlabeled, y_train_labeled, y_train_unlabeled = train_test_split(\n",
    "    X_train, y_train, test_size=0.6, stratify=y_train, random_state=42\n",
    ")"
   ]
  },
  {
   "cell_type": "code",
   "execution_count": 238,
   "metadata": {},
   "outputs": [],
   "source": [
    "#unlabel the data\n",
    "y_train_unlabeled = np.full(y_train_unlabeled.shape, -1)"
   ]
  },
  {
   "cell_type": "code",
   "execution_count": 240,
   "metadata": {},
   "outputs": [],
   "source": [
    "# Flattening\n",
    "X_train_labeled_flat = X_train_labeled.reshape(X_train_labeled.shape[0], -1)\n",
    "X_train_unlabeled_flat = X_train_unlabeled.reshape(X_train_unlabeled.shape[0], -1)\n",
    "\n",
    "PCA\n",
    "scaler = StandardScaler()\n",
    "pca = PCA(n_components=100)\n",
    "X_train_labeled_pca = pca.fit_transform(scaler.fit_transform(X_train_labeled_flat))\n",
    "X_train_unlabeled_pca = pca.transform(scaler.transform(X_train_unlabeled_flat))"
   ]
  },
  {
   "cell_type": "code",
   "execution_count": 242,
   "metadata": {},
   "outputs": [
    {
     "name": "stdout",
     "output_type": "stream",
     "text": [
      "{}\n"
     ]
    }
   ],
   "source": [
    "#parameter tuning - Pruning\n",
    "best_accuracy = 0\n",
    "best_params = {}\n",
    "for max_depth in [10, 15, 20, 30]:\n",
    "    for min_samples_split in [2, 10, 20]:\n",
    "        for min_samples_leaf in [1, 5, 10]:\n",
    "            for ccp_alpha in [0.0, 0.01, 0.05, 0.1]: # Added ccp_alpha for pruning\n",
    "                base_estimator = DecisionTreeClassifier(max_depth=max_depth, min_samples_split=min_samples_split, min_samples_leaf=min_samples_leaf, ccp_alpha=ccp_alpha, random_state=42)\n",
    "                base_estimator.fit(X_train_labeled_pca, y_train_labeled)\n",
    "                y_pred = dt.predict(X_train_unlabeled_pca)\n",
    "                accuracy = accuracy_score(y_train_unlabeled, y_pred)\n",
    "                if accuracy > best_accuracy:\n",
    "                    best_accuracy = accuracy\n",
    "                    best_params = {'max_depth': max_depth, 'min_samples_split': min_samples_split, 'min_samples_leaf': min_samples_leaf, 'ccp_alpha': ccp_alpha}\n",
    "\n",
    "print(best_params)"
   ]
  },
  {
   "cell_type": "code",
   "execution_count": 244,
   "metadata": {},
   "outputs": [],
   "source": [
    "base_estimator = DecisionTreeClassifier(random_state=42)"
   ]
  },
  {
   "cell_type": "code",
   "execution_count": 246,
   "metadata": {},
   "outputs": [],
   "source": [
    "#self-training constraints\n",
    "threshold = 0.95\n",
    "max_iterations = 30"
   ]
  },
  {
   "cell_type": "code",
   "execution_count": 248,
   "metadata": {},
   "outputs": [],
   "source": [
    "#convert labeled data to lists to allow dynamic addition of confident labeled data\n",
    "X_labeled = list(X_train_labeled_pca)\n",
    "y_labeled = list(y_train_labeled)"
   ]
  },
  {
   "cell_type": "code",
   "execution_count": 250,
   "metadata": {},
   "outputs": [],
   "source": [
    "#start iterations for predicting data\n",
    "for iteration in range(max_iterations):\n",
    "    base_estimator.fit(X_labeled,y_labeled)\n",
    "\n",
    "    # Check if there are samples left to predict\n",
    "    if X_train_unlabeled_pca.shape[0] == 0:\n",
    "        break\n",
    "    \n",
    "    probabilities = base_estimator.predict_proba(X_train_unlabeled_pca)\n",
    "    max_probabilities = np.max(probabilities, axis = 1)\n",
    "\n",
    "    # Identify confident predictions\n",
    "    confident_prediction_index = np.where(max_probabilities >= threshold)[0]\n",
    "\n",
    "    # Break if no confident predictions\n",
    "    if len(confident_prediction_index) == 0:\n",
    "        break\n",
    "\n",
    "    # Add confident predictions to the labeled set\n",
    "    X_confident = X_train_unlabeled_pca[confident_prediction_index]\n",
    "    y_confident = base_estimator.predict(X_confident)\n",
    "    \n",
    "    X_labeled.extend(X_confident)\n",
    "    y_labeled.extend(y_confident)\n",
    "\n",
    "    # Remove confident samples from the unlabeled set\n",
    "    X_train_unlabeled_pca = np.delete(X_train_unlabeled_pca, confident_prediction_index, axis=0)    "
   ]
  },
  {
   "cell_type": "code",
   "execution_count": 252,
   "metadata": {},
   "outputs": [
    {
     "data": {
      "text/html": [
       "<style>#sk-container-id-7 {color: black;background-color: white;}#sk-container-id-7 pre{padding: 0;}#sk-container-id-7 div.sk-toggleable {background-color: white;}#sk-container-id-7 label.sk-toggleable__label {cursor: pointer;display: block;width: 100%;margin-bottom: 0;padding: 0.3em;box-sizing: border-box;text-align: center;}#sk-container-id-7 label.sk-toggleable__label-arrow:before {content: \"▸\";float: left;margin-right: 0.25em;color: #696969;}#sk-container-id-7 label.sk-toggleable__label-arrow:hover:before {color: black;}#sk-container-id-7 div.sk-estimator:hover label.sk-toggleable__label-arrow:before {color: black;}#sk-container-id-7 div.sk-toggleable__content {max-height: 0;max-width: 0;overflow: hidden;text-align: left;background-color: #f0f8ff;}#sk-container-id-7 div.sk-toggleable__content pre {margin: 0.2em;color: black;border-radius: 0.25em;background-color: #f0f8ff;}#sk-container-id-7 input.sk-toggleable__control:checked~div.sk-toggleable__content {max-height: 200px;max-width: 100%;overflow: auto;}#sk-container-id-7 input.sk-toggleable__control:checked~label.sk-toggleable__label-arrow:before {content: \"▾\";}#sk-container-id-7 div.sk-estimator input.sk-toggleable__control:checked~label.sk-toggleable__label {background-color: #d4ebff;}#sk-container-id-7 div.sk-label input.sk-toggleable__control:checked~label.sk-toggleable__label {background-color: #d4ebff;}#sk-container-id-7 input.sk-hidden--visually {border: 0;clip: rect(1px 1px 1px 1px);clip: rect(1px, 1px, 1px, 1px);height: 1px;margin: -1px;overflow: hidden;padding: 0;position: absolute;width: 1px;}#sk-container-id-7 div.sk-estimator {font-family: monospace;background-color: #f0f8ff;border: 1px dotted black;border-radius: 0.25em;box-sizing: border-box;margin-bottom: 0.5em;}#sk-container-id-7 div.sk-estimator:hover {background-color: #d4ebff;}#sk-container-id-7 div.sk-parallel-item::after {content: \"\";width: 100%;border-bottom: 1px solid gray;flex-grow: 1;}#sk-container-id-7 div.sk-label:hover label.sk-toggleable__label {background-color: #d4ebff;}#sk-container-id-7 div.sk-serial::before {content: \"\";position: absolute;border-left: 1px solid gray;box-sizing: border-box;top: 0;bottom: 0;left: 50%;z-index: 0;}#sk-container-id-7 div.sk-serial {display: flex;flex-direction: column;align-items: center;background-color: white;padding-right: 0.2em;padding-left: 0.2em;position: relative;}#sk-container-id-7 div.sk-item {position: relative;z-index: 1;}#sk-container-id-7 div.sk-parallel {display: flex;align-items: stretch;justify-content: center;background-color: white;position: relative;}#sk-container-id-7 div.sk-item::before, #sk-container-id-7 div.sk-parallel-item::before {content: \"\";position: absolute;border-left: 1px solid gray;box-sizing: border-box;top: 0;bottom: 0;left: 50%;z-index: -1;}#sk-container-id-7 div.sk-parallel-item {display: flex;flex-direction: column;z-index: 1;position: relative;background-color: white;}#sk-container-id-7 div.sk-parallel-item:first-child::after {align-self: flex-end;width: 50%;}#sk-container-id-7 div.sk-parallel-item:last-child::after {align-self: flex-start;width: 50%;}#sk-container-id-7 div.sk-parallel-item:only-child::after {width: 0;}#sk-container-id-7 div.sk-dashed-wrapped {border: 1px dashed gray;margin: 0 0.4em 0.5em 0.4em;box-sizing: border-box;padding-bottom: 0.4em;background-color: white;}#sk-container-id-7 div.sk-label label {font-family: monospace;font-weight: bold;display: inline-block;line-height: 1.2em;}#sk-container-id-7 div.sk-label-container {text-align: center;}#sk-container-id-7 div.sk-container {/* jupyter's `normalize.less` sets `[hidden] { display: none; }` but bootstrap.min.css set `[hidden] { display: none !important; }` so we also need the `!important` here to be able to override the default hidden behavior on the sphinx rendered scikit-learn.org. See: https://github.com/scikit-learn/scikit-learn/issues/21755 */display: inline-block !important;position: relative;}#sk-container-id-7 div.sk-text-repr-fallback {display: none;}</style><div id=\"sk-container-id-7\" class=\"sk-top-container\"><div class=\"sk-text-repr-fallback\"><pre>DecisionTreeClassifier(random_state=42)</pre><b>In a Jupyter environment, please rerun this cell to show the HTML representation or trust the notebook. <br />On GitHub, the HTML representation is unable to render, please try loading this page with nbviewer.org.</b></div><div class=\"sk-container\" hidden><div class=\"sk-item\"><div class=\"sk-estimator sk-toggleable\"><input class=\"sk-toggleable__control sk-hidden--visually\" id=\"sk-estimator-id-7\" type=\"checkbox\" checked><label for=\"sk-estimator-id-7\" class=\"sk-toggleable__label sk-toggleable__label-arrow\">DecisionTreeClassifier</label><div class=\"sk-toggleable__content\"><pre>DecisionTreeClassifier(random_state=42)</pre></div></div></div></div></div>"
      ],
      "text/plain": [
       "DecisionTreeClassifier(random_state=42)"
      ]
     },
     "execution_count": 252,
     "metadata": {},
     "output_type": "execute_result"
    }
   ],
   "source": [
    "# Fit the classifier on the final labeled data\n",
    "base_estimator.fit(X_labeled, y_labeled)"
   ]
  },
  {
   "cell_type": "code",
   "execution_count": 254,
   "metadata": {},
   "outputs": [],
   "source": [
    "y_pred = base_estimator.predict(X_test_pca)"
   ]
  },
  {
   "cell_type": "code",
   "execution_count": 256,
   "metadata": {},
   "outputs": [
    {
     "name": "stdout",
     "output_type": "stream",
     "text": [
      "Accuracy: 0.24695652173913044\n",
      "Classification Report:\n",
      "              precision    recall  f1-score   support\n",
      "\n",
      "         Bar       0.17      0.17      0.17       109\n",
      "      Casino       0.38      0.28      0.32       117\n",
      "  Restaurant       0.18      0.19      0.19       115\n",
      "     Library       0.22      0.25      0.24       108\n",
      "    Hospital       0.31      0.33      0.32       126\n",
      "\n",
      "    accuracy                           0.25       575\n",
      "   macro avg       0.25      0.24      0.25       575\n",
      "weighted avg       0.25      0.25      0.25       575\n",
      "\n"
     ]
    }
   ],
   "source": [
    "# Evaluation Metrics\n",
    "accuracy = accuracy_score(y_test, y_pred)\n",
    "report = classification_report(y_test, y_pred, target_names=classes)\n",
    "conf_matrix_semi_sup = confusion_matrix(y_test, y_pred)\n",
    "\n",
    "print(f\"Accuracy: {accuracy}\")\n",
    "print(\"Classification Report:\")\n",
    "print(report)"
   ]
  },
  {
   "cell_type": "code",
   "execution_count": 258,
   "metadata": {},
   "outputs": [
    {
     "data": {
      "image/png": "[encoded data removed]",
      "text/plain": [
       "<Figure size 640x480 with 2 Axes>"
      ]
     },
     "metadata": {},
     "output_type": "display_data"
    }
   ],
   "source": [
    "ConfusionMatrixDisplay(confusion_matrix=conf_matrix_semi_sup, display_labels=classes).plot(cmap=plt.cm.Blues)\n",
    "plt.show()"
   ]
  },
  {
   "cell_type": "code",
   "execution_count": null,
   "metadata": {},
   "outputs": [],
   "source": []
  }
 ],
 "metadata": {
  "colab": {
   "provenance": []
  },
  "kernelspec": {
   "display_name": "Python 3 (ipykernel)",
   "language": "python",
   "name": "python3"
  },
  "language_info": {
   "codemirror_mode": {
    "name": "ipython",
    "version": 3
   },
   "file_extension": ".py",
   "mimetype": "text/x-python",
   "name": "python",
   "nbconvert_exporter": "python",
   "pygments_lexer": "ipython3",
   "version": "3.11.7"
  }
 },
 "nbformat": 4,
 "nbformat_minor": 4
}
